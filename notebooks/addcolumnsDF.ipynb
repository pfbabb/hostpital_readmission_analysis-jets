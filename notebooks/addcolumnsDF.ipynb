{
 "cells": [
  {
   "cell_type": "code",
   "execution_count": 1,
   "id": "205098f4",
   "metadata": {},
   "outputs": [],
   "source": [
    "import pandas as pd\n",
    "import matplotlib.pyplot as plt"
   ]
  },
  {
   "cell_type": "code",
   "execution_count": 2,
   "id": "2e51f491",
   "metadata": {},
   "outputs": [
    {
     "name": "stderr",
     "output_type": "stream",
     "text": [
      "C:\\Users\\pfbab\\anaconda3\\lib\\site-packages\\IPython\\core\\interactiveshell.py:3165: DtypeWarning: Columns (3,5,17) have mixed types.Specify dtype option on import or set low_memory=False.\n",
      "  has_raised = await self.run_ast_nodes(code_ast.body, cell_name,\n"
     ]
    },
    {
     "name": "stdout",
     "output_type": "stream",
     "text": [
      "(6213, 23)\n",
      "(231373, 18)\n",
      "(61519, 63)\n"
     ]
    }
   ],
   "source": [
    "admis = pd.read_csv('../Data Files/NSS_Hospital_Inpatient_Admissions.csv',\n",
    "                    infer_datetime_format=True, parse_dates=[8,9],\n",
    "                   dtype= {6:'str',12:'str',14:'str',15:'str'})\n",
    "visits = pd.read_csv('../Data Files/NSS_PrimaryCare_Office_Visits.csv',\n",
    "                     infer_datetime_format=True, parse_dates=[12],\n",
    "                    dtype={8:'str',9:'str',10:'str',11:'str'})\n",
    "mem = pd.read_csv('../Data Files/NSS_GreatCare_Members.csv',\n",
    "                  infer_datetime_format=True, parse_dates=[5,61,62],\n",
    "                 dtype= {6:'str',10:'str',11:'str',13:'str'})\n",
    "npi = pd.read_csv('../output/npi.csv')\n",
    "print(admis.shape)\n",
    "print(visits.shape)\n",
    "print(mem.shape)"
   ]
  },
  {
   "cell_type": "code",
   "execution_count": null,
   "id": "a4a02839",
   "metadata": {},
   "outputs": [],
   "source": [
    "pcp_visit = 0\n",
    "readmit = 0\n",
    "#pull patient numbers that have more then one admission to loop through\n",
    "for patnum in admis['Patient ID'].drop_duplicates():\n",
    "    window = pd.to_datetime(0) #set window as a datetime to make first loop work\n",
    "    #create dataframe for each patient number keeping only the final discharge per Start Date\n",
    "    patient = admis[admis['Patient ID']==patnum]\n",
    "    patient = patient.sort_values(['Encounter Start Date','Encounter End Date']).drop_duplicates(subset=['Patient ID','Encounter End Date'], keep='first')\n",
    "    patient = patient.sort_values('Encounter End Date').drop_duplicates(subset=['Patient ID','Encounter Start Date'], keep='last')\n",
    "    vpatient = visits[visits['Patient ID']==patnum].sort_values('Encounter Date')\n",
    "    \n",
    "    for rnum in range(0,len(patient)):\n",
    "        if window < patient.iloc[rnum,8] :\n",
    "            #test all admissions after rnum\n",
    "            trigger = patient.iloc[rnum+1:,8]<=(patient.iloc[rnum,9] + pd.DateOffset(days=30)) #column 8=start, 9=end\n",
    "            #add one if there are Trues\n",
    "            readmit = readmit + int(trigger.sum() > 0)\n",
    "            #save 30 day window date to remove dupicate dates\n",
    "            window = (patient.iloc[rnum,9] + pd.DateOffset(days=30))\n",
    "            if trigger.sum() > 0:\n",
    "                admis.loc[admis['Encounter ID']==patient.iloc[rnum,0],'index_admis'] = True\n",
    "                admis.loc[admis['Encounter ID']==patient.iloc[rnum,0],'readmission'] = True\n",
    "            else:\n",
    "                admis.loc[admis['Encounter ID']==patient.iloc[rnum,0],'index_admis'] = True\n",
    "        else:\n",
    "            admis.loc[admis['Encounter ID']==patient.iloc[rnum,0],'index_admis'] = False\n",
    "        trigger7 = vpatient[vpatient['Encounter Date']>=patient.iloc[rnum,9]]['Encounter Date']  <=  (patient.iloc[rnum,9] + pd.DateOffset(days=7))\n",
    "        pcp_visit += int(trigger7.sum() > 0)\n",
    "        if trigger7.sum() > 0:\n",
    "            admis.loc[admis['Encounter ID']==patient.iloc[rnum,0],'pcp_visit'] = True\n",
    "        else:\n",
    "            admis.loc[admis['Encounter ID']==patient.iloc[rnum,0],'pcp_visit'] = False"
   ]
  },
  {
   "cell_type": "code",
   "execution_count": null,
   "id": "f8e0eaf3",
   "metadata": {},
   "outputs": [],
   "source": [
    "admis['index_admis'].value_counts()"
   ]
  },
  {
   "cell_type": "code",
   "execution_count": null,
   "id": "ae186438",
   "metadata": {},
   "outputs": [],
   "source": [
    "(admis['index_admis'].isna()).sum()"
   ]
  },
  {
   "cell_type": "code",
   "execution_count": null,
   "id": "9f5a4af6",
   "metadata": {},
   "outputs": [],
   "source": [
    "len(admis)"
   ]
  },
  {
   "cell_type": "code",
   "execution_count": null,
   "id": "e6721a04",
   "metadata": {},
   "outputs": [],
   "source": [
    "readmit"
   ]
  },
  {
   "cell_type": "code",
   "execution_count": null,
   "id": "a5c33a23",
   "metadata": {},
   "outputs": [],
   "source": [
    "pcp_visit"
   ]
  },
  {
   "cell_type": "code",
   "execution_count": null,
   "id": "67dd6be4",
   "metadata": {},
   "outputs": [],
   "source": [
    "#question1\n",
    "q1num = len(admis[(admis['index_admis']==True)&(admis['readmission']==True)])\n",
    "q1denom = admis['index_admis'].value_counts()[True]\n",
    "print('numerator: ' + str(q1num))\n",
    "print('denominator: ' + str(q1denom))\n",
    "print(q1num/q1denom)\n"
   ]
  },
  {
   "cell_type": "code",
   "execution_count": null,
   "id": "1a49ab16",
   "metadata": {},
   "outputs": [],
   "source": []
  },
  {
   "cell_type": "code",
   "execution_count": null,
   "id": "d8ddeead",
   "metadata": {},
   "outputs": [],
   "source": [
    "#question2\n",
    "q2num = admis['pcp_visit'].value_counts()[True]\n",
    "q2denom = admis['index_admis'].value_counts().sum()\n",
    "q2num"
   ]
  },
  {
   "cell_type": "code",
   "execution_count": null,
   "id": "373d1bff",
   "metadata": {},
   "outputs": [],
   "source": [
    "admis['pcp_visit'].value_counts()"
   ]
  },
  {
   "cell_type": "code",
   "execution_count": null,
   "id": "1a35b27a",
   "metadata": {},
   "outputs": [],
   "source": [
    "visittimeline[rnum]"
   ]
  },
  {
   "cell_type": "code",
   "execution_count": null,
   "id": "cdbf3413",
   "metadata": {},
   "outputs": [],
   "source": [
    "pcp_visit"
   ]
  },
  {
   "cell_type": "code",
   "execution_count": null,
   "id": "f55babe8",
   "metadata": {},
   "outputs": [],
   "source": []
  }
 ],
 "metadata": {
  "kernelspec": {
   "display_name": "Python 3",
   "language": "python",
   "name": "python3"
  },
  "language_info": {
   "codemirror_mode": {
    "name": "ipython",
    "version": 3
   },
   "file_extension": ".py",
   "mimetype": "text/x-python",
   "name": "python",
   "nbconvert_exporter": "python",
   "pygments_lexer": "ipython3",
   "version": "3.8.8"
  }
 },
 "nbformat": 4,
 "nbformat_minor": 5
}
