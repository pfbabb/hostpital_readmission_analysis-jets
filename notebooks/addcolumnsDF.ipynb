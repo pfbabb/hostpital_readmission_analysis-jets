{
 "cells": [
  {
   "cell_type": "code",
   "execution_count": 1,
   "id": "205098f4",
   "metadata": {},
   "outputs": [],
   "source": [
    "import pandas as pd\n",
    "import matplotlib.pyplot as plt"
   ]
  },
  {
   "cell_type": "code",
   "execution_count": 2,
   "id": "2e51f491",
   "metadata": {},
   "outputs": [
    {
     "name": "stderr",
     "output_type": "stream",
     "text": [
      "C:\\Users\\pfbab\\anaconda3\\lib\\site-packages\\IPython\\core\\interactiveshell.py:3165: DtypeWarning: Columns (3,5,17) have mixed types.Specify dtype option on import or set low_memory=False.\n",
      "  has_raised = await self.run_ast_nodes(code_ast.body, cell_name,\n"
     ]
    },
    {
     "name": "stdout",
     "output_type": "stream",
     "text": [
      "(6213, 23)\n",
      "(231373, 18)\n",
      "(61519, 63)\n",
      "(5415, 3)\n"
     ]
    }
   ],
   "source": [
    "admis = pd.read_csv('../Data Files/NSS_Hospital_Inpatient_Admissions.csv',\n",
    "                    infer_datetime_format=True, parse_dates=[8,9],\n",
    "                   dtype= {6:'str',12:'str',14:'str',15:'str'})\n",
    "visits = pd.read_csv('../Data Files/NSS_PrimaryCare_Office_Visits.csv',\n",
    "                     infer_datetime_format=True, parse_dates=[12],\n",
    "                    dtype={8:'str',9:'str',10:'str',11:'str'})\n",
    "mem = pd.read_csv('../Data Files/NSS_GreatCare_Members.csv',\n",
    "                  infer_datetime_format=True, parse_dates=[5,61,62],\n",
    "                 dtype= {6:'str',10:'str',11:'str',13:'str'})\n",
    "npi = pd.read_csv('../output/npi.csv')\n",
    "npi = npi.drop(columns=['Unnamed: 0'])\n",
    "print(admis.shape)\n",
    "print(visits.shape)\n",
    "print(mem.shape)\n",
    "print(npi.shape)"
   ]
  },
  {
   "cell_type": "code",
   "execution_count": 3,
   "id": "55aa9c31",
   "metadata": {},
   "outputs": [],
   "source": [
    "visits = pd.merge(visits, npi, how='left', left_on='Service Provider NPI',right_on='npi' ).drop(columns=['entry','npi']).rename(columns={'enumeration':'Service Provider NPI Type'})\n",
    "visits = pd.merge(visits, npi, how='left', left_on='Provider Group NPI',right_on='npi' ).drop(columns=['entry','npi']).rename(columns={'enumeration':'Provider Group NPI Type'})\n",
    "admis = pd.merge(admis, npi, how='left', left_on='Attending Provider NPI',right_on='npi' ).drop(columns=['entry','npi']).rename(columns={'enumeration':'Attending Provider NPI Type'})\n",
    "admis = pd.merge(admis, npi, how='left', left_on='Facility Provider NPI',right_on='npi' ).drop(columns=['entry','npi']).rename(columns={'enumeration':'Facility Provider NPI Type'})\n"
   ]
  },
  {
   "cell_type": "code",
   "execution_count": 7,
   "id": "a4a02839",
   "metadata": {},
   "outputs": [
    {
     "name": "stdout",
     "output_type": "stream",
     "text": [
      "NPI-1\n",
      "NPI-1\n",
      "NPI-1\n",
      "NPI-1\n",
      "NPI-1\n",
      "NPI-1\n",
      "NPI-1\n",
      "NPI-1\n",
      "NPI-1\n",
      "NPI-1\n",
      "NPI-1\n",
      "NPI-1\n",
      "NPI-1\n",
      "NPI-1\n",
      "NPI-1\n",
      "NPI-1\n",
      "NPI-1\n",
      "NPI-1\n",
      "NPI-1\n",
      "NPI-1\n",
      "NPI-1\n"
     ]
    }
   ],
   "source": [
    "pcp_visit = 0\n",
    "readmit = 0\n",
    "#pull patient numbers that have more then one admission to loop through\n",
    "for patnum in admis['Patient ID'].drop_duplicates():\n",
    "    window = pd.to_datetime(0) #set window as a datetime to make first loop work\n",
    "    #create dataframe for each patient number keeping only the final discharge per Start Date\n",
    "    patient = admis[admis['Patient ID']==patnum]\n",
    "    patient = patient.sort_values(['Encounter Start Date','Encounter End Date']).drop_duplicates(subset=['Patient ID','Encounter End Date'], keep='first')\n",
    "    patient = patient.sort_values('Encounter End Date').drop_duplicates(subset=['Patient ID','Encounter Start Date'], keep='last')\n",
    "    vpatient = visits[visits['Patient ID']==patnum].sort_values('Encounter Date')\n",
    "    dpatient = patient.set_index('Encounter End Date')['Encounter ID']\n",
    "    dvpatient = vpatient.set_index('Encounter Date')['Encounter ID']\n",
    "    visittimeline = pd.concat([dpatient ,dvpatient])\n",
    "    visittimeline.sort_index(inplace=True)\n",
    "    try:\n",
    "        if vpatient['Provider Group NPI Type'].value_counts().keys()[0] == 'NPI-1':\n",
    "            print('NPI-1')\n",
    "            admis.loc[admis['Patient ID']==patnum,'NPI_type'] = 'NPI-1'\n",
    "        else:\n",
    "            admis.loc[admis['Patient ID']==patnum,'NPI_type'] = 'NPI-2'\n",
    "    except:\n",
    "        admis.loc[admis['Patient ID']==patnum,'NPI_type'] = 'None'\n",
    "    \n",
    "    for rnum in range(0,len(patient)):\n",
    "        if window < patient.iloc[rnum,8] :\n",
    "            #test all admissions after rnum\n",
    "            trigger = patient.iloc[rnum+1:,8]<=(patient.iloc[rnum,9] + pd.DateOffset(days=30)) #column 8=start, 9=end\n",
    "            #add one if there are Trues\n",
    "            readmit = readmit + int(trigger.sum() > 0)\n",
    "            #save 30 day window date to remove dupicate dates\n",
    "            window = (patient.iloc[rnum,9] + pd.DateOffset(days=30))\n",
    "            if trigger.sum() > 0:\n",
    "                admis.loc[admis['Encounter ID']==patient.iloc[rnum,0],'index_admis'] = True\n",
    "                admis.loc[admis['Encounter ID']==patient.iloc[rnum,0],'readmission'] = True\n",
    "            else:\n",
    "                admis.loc[admis['Encounter ID']==patient.iloc[rnum,0],'index_admis'] = True\n",
    "        else:\n",
    "            admis.loc[admis['Encounter ID']==patient.iloc[rnum,0],'index_admis'] = False\n",
    "    for rnum in range(0,len(visittimeline)-1):\n",
    "        if (visittimeline[rnum].startswith('HIA') & visittimeline[rnum+1].startswith('COV'))&(visittimeline.index[rnum+1] <= (visittimeline.index[rnum])+pd.DateOffset(days=7)):\n",
    "            pcp_visit += 1\n",
    "            admis.loc[admis['Encounter ID']==visittimeline[rnum],'pcp_visit'] = True\n",
    "        elif visittimeline[rnum].startswith('HIA'):\n",
    "            admis.loc[admis['Encounter ID']==visittimeline[rnum],'pcp_visit'] = False"
   ]
  },
  {
   "cell_type": "code",
   "execution_count": 8,
   "id": "f8e0eaf3",
   "metadata": {},
   "outputs": [
    {
     "data": {
      "text/plain": [
       "True     5536\n",
       "False     613\n",
       "Name: index_admis, dtype: int64"
      ]
     },
     "execution_count": 8,
     "metadata": {},
     "output_type": "execute_result"
    }
   ],
   "source": [
    "admis['index_admis'].value_counts()"
   ]
  },
  {
   "cell_type": "code",
   "execution_count": 9,
   "id": "ae186438",
   "metadata": {},
   "outputs": [
    {
     "data": {
      "text/plain": [
       "64"
      ]
     },
     "execution_count": 9,
     "metadata": {},
     "output_type": "execute_result"
    }
   ],
   "source": [
    "(admis['index_admis'].isna()).sum()"
   ]
  },
  {
   "cell_type": "code",
   "execution_count": 10,
   "id": "e6721a04",
   "metadata": {},
   "outputs": [
    {
     "data": {
      "text/plain": [
       "527"
      ]
     },
     "execution_count": 10,
     "metadata": {},
     "output_type": "execute_result"
    }
   ],
   "source": [
    "readmit"
   ]
  },
  {
   "cell_type": "code",
   "execution_count": 11,
   "id": "a5c33a23",
   "metadata": {},
   "outputs": [
    {
     "data": {
      "text/plain": [
       "1846"
      ]
     },
     "execution_count": 11,
     "metadata": {},
     "output_type": "execute_result"
    }
   ],
   "source": [
    "pcp_visit"
   ]
  },
  {
   "cell_type": "code",
   "execution_count": 12,
   "id": "67dd6be4",
   "metadata": {},
   "outputs": [
    {
     "name": "stdout",
     "output_type": "stream",
     "text": [
      "numerator: 527\n",
      "denominator: 5536\n",
      "0.09519508670520231\n"
     ]
    }
   ],
   "source": [
    "#question1\n",
    "q1num = len(admis[(admis['index_admis']==True)&(admis['readmission']==True)])\n",
    "q1denom = admis['index_admis'].value_counts()[True]\n",
    "print('numerator: ' + str(q1num))\n",
    "print('denominator: ' + str(q1denom))\n",
    "print(q1num/q1denom)\n"
   ]
  },
  {
   "cell_type": "code",
   "execution_count": 13,
   "id": "9ff35ab8",
   "metadata": {},
   "outputs": [
    {
     "name": "stdout",
     "output_type": "stream",
     "text": [
      "numerator: 1846\n",
      "denominator: 6149\n",
      "0.30021141649048627\n"
     ]
    }
   ],
   "source": [
    "#question2\n",
    "q2num = admis['pcp_visit'].value_counts()[True]\n",
    "q2denom = admis['index_admis'].value_counts().sum()\n",
    "print('numerator: ' + str(q2num))\n",
    "print('denominator: ' + str(q2denom))\n",
    "print(q2num/q2denom)"
   ]
  },
  {
   "cell_type": "code",
   "execution_count": 16,
   "id": "9c83d051",
   "metadata": {},
   "outputs": [
    {
     "data": {
      "text/plain": [
       "NPI-2    5872\n",
       "None      318\n",
       "NPI-1      23\n",
       "Name: NPI_type, dtype: int64"
      ]
     },
     "execution_count": 16,
     "metadata": {},
     "output_type": "execute_result"
    }
   ],
   "source": [
    "admis.NPI_type.value_counts()"
   ]
  },
  {
   "cell_type": "code",
   "execution_count": null,
   "id": "12511f07",
   "metadata": {},
   "outputs": [],
   "source": []
  },
  {
   "cell_type": "code",
   "execution_count": null,
   "id": "43adde75",
   "metadata": {},
   "outputs": [],
   "source": []
  },
  {
   "cell_type": "code",
   "execution_count": null,
   "id": "f134f6eb",
   "metadata": {},
   "outputs": [],
   "source": []
  },
  {
   "cell_type": "code",
   "execution_count": null,
   "id": "fb05be24",
   "metadata": {},
   "outputs": [],
   "source": []
  },
  {
   "cell_type": "code",
   "execution_count": null,
   "id": "4395bd32",
   "metadata": {},
   "outputs": [],
   "source": []
  },
  {
   "cell_type": "code",
   "execution_count": null,
   "id": "e07bc924",
   "metadata": {},
   "outputs": [],
   "source": []
  },
  {
   "cell_type": "code",
   "execution_count": null,
   "id": "493a7f3d",
   "metadata": {},
   "outputs": [],
   "source": []
  },
  {
   "cell_type": "code",
   "execution_count": null,
   "id": "daac202c",
   "metadata": {},
   "outputs": [],
   "source": []
  }
 ],
 "metadata": {
  "kernelspec": {
   "display_name": "Python 3",
   "language": "python",
   "name": "python3"
  },
  "language_info": {
   "codemirror_mode": {
    "name": "ipython",
    "version": 3
   },
   "file_extension": ".py",
   "mimetype": "text/x-python",
   "name": "python",
   "nbconvert_exporter": "python",
   "pygments_lexer": "ipython3",
   "version": "3.8.8"
  }
 },
 "nbformat": 4,
 "nbformat_minor": 5
}
